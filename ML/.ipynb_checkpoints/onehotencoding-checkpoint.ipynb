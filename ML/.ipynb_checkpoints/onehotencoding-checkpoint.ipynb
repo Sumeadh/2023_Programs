{
 "cells": [
  {
   "cell_type": "code",
   "execution_count": null,
   "id": "48625cb9-e4f3-4af3-adb8-beaf0eeaff3a",
   "metadata": {},
   "outputs": [],
   "source": []
  }
 ],
 "metadata": {
  "kernelspec": {
   "display_name": "Python 3 (ipykernel)",
   "language": "python",
   "name": "python3"
  },
  "language_info": {
   "codemirror_mode": {
    "name": "ipython",
    "version": 3
   },
   "file_extension": ".py",
   "mimetype": "text/x-python",
   "name": "python",
   "nbconvert_exporter": "python",
   "pygments_lexer": "ipython3",
   "version": "3.10.10"
  }
 },
 "nbformat": 4,
 "nbformat_minor": 5
}
